{
 "cells": [
  {
   "cell_type": "markdown",
   "metadata": {},
   "source": [
    "## Prepare data\n",
    "\n",
    "The training set is composed of 3 datasets\n",
    " \n",
    "    - trainset_realnews.csv : Real news in Spanish\n",
    "    - trainset_gptnews.csv : News generated using GPT4 using a few-shot strategy\n",
    "    - trainset_paper_and_corpus.csv : News from fake-news classified corpus https://www.kaggle.com/datasets/rmisra/news-category-dataset "
   ]
  },
  {
   "cell_type": "code",
   "execution_count": 1,
   "metadata": {},
   "outputs": [],
   "source": [
    "# format csv\n",
    "import pandas as pd \n",
    "\n",
    "\n",
    "realnews = pd.read_csv('data/trainset_realnews.csv', encoding='latin1', index_col='Id')\n",
    "corpus = pd.read_csv('data/trainset_paper_and_corpus.csv', encoding='latin1', index_col='Id')\n",
    "gptnews = pd.read_csv('data/trainset_gptnews.csv', encoding='latin1', index_col='Id')\n",
    "\n",
    "\n",
    "#Training dataset \n",
    "sensationalist_dataset = pd.concat([realnews, corpus, gptnews], ignore_index=True)\n",
    "\n",
    "#Shuffle rows dataset\n",
    "sensationalist_dataset = sensationalist_dataset.sample(frac=1).reset_index(drop=True)\n",
    "\n",
    "sensationalist_dataset.to_json('data/trainset.json', orient='index')\n"
   ]
  },
  {
   "cell_type": "markdown",
   "metadata": {},
   "source": [
    "### Trainset summary"
   ]
  },
  {
   "cell_type": "code",
   "execution_count": 11,
   "metadata": {},
   "outputs": [
    {
     "name": "stdout",
     "output_type": "stream",
     "text": [
      "<class 'pandas.core.frame.DataFrame'>\n",
      "RangeIndex: 202 entries, 0 to 201\n",
      "Data columns (total 9 columns):\n",
      " #   Column          Non-Null Count  Dtype \n",
      "---  ------          --------------  ----- \n",
      " 0   Fuente          143 non-null    object\n",
      " 1   Titular         202 non-null    object\n",
      " 2   Copete/Resumen  14 non-null     object\n",
      " 3   Cuerpo          202 non-null    object\n",
      " 4   Amarillismo     202 non-null    object\n",
      " 5   Falsa           202 non-null    object\n",
      " 6   Link            59 non-null     object\n",
      " 7   Source          59 non-null     object\n",
      " 8   Copete          188 non-null    object\n",
      "dtypes: object(9)\n",
      "memory usage: 14.3+ KB\n"
     ]
    }
   ],
   "source": [
    "# show some statistics \n",
    "sensationalist_dataset.info()"
   ]
  },
  {
   "cell_type": "markdown",
   "metadata": {},
   "source": [
    "## Senstionalist balance"
   ]
  },
  {
   "cell_type": "code",
   "execution_count": 20,
   "metadata": {},
   "outputs": [
    {
     "data": {
      "text/plain": [
       "Amarillismo\n",
       "Amarillista       0.5\n",
       "No Amarillista    0.5\n",
       "Name: proportion, dtype: float64"
      ]
     },
     "execution_count": 20,
     "metadata": {},
     "output_type": "execute_result"
    }
   ],
   "source": [
    "#count how many sensationalist and non-sensationalist news are in the dataset\n",
    "sensationalist_dataset['Amarillismo'].value_counts(normalize=True)"
   ]
  },
  {
   "cell_type": "code",
   "execution_count": 21,
   "metadata": {},
   "outputs": [
    {
     "data": {
      "text/plain": [
       "Falsa\n",
       "Verdadera    0.623762\n",
       "Falsa        0.376238\n",
       "Name: proportion, dtype: float64"
      ]
     },
     "execution_count": 21,
     "metadata": {},
     "output_type": "execute_result"
    }
   ],
   "source": [
    "sensationalist_dataset['Falsa'].value_counts(normalize=True)"
   ]
  }
 ],
 "metadata": {
  "kernelspec": {
   "display_name": "nlp-env",
   "language": "python",
   "name": "python3"
  },
  "language_info": {
   "codemirror_mode": {
    "name": "ipython",
    "version": 3
   },
   "file_extension": ".py",
   "mimetype": "text/x-python",
   "name": "python",
   "nbconvert_exporter": "python",
   "pygments_lexer": "ipython3",
   "version": "3.10.12"
  }
 },
 "nbformat": 4,
 "nbformat_minor": 2
}
